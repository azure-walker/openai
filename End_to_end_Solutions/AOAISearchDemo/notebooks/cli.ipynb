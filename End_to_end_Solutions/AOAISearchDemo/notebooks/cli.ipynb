{
 "cells": [
  {
   "cell_type": "code",
   "execution_count": null,
   "metadata": {},
   "outputs": [],
   "source": [
    "!azd auth login\n",
    "!export user=$(az account show -o json | jq -r .user.name)\n",
    "!export resourceId=$(az group show -g openaisearch -o json | jq -r .id)\n",
    "!az role assignment create --role \"Cognitive Services User\" --assignee $user --scope $resourceId\n",
    "!export accessToken=$(az account get-access-token --resource https://cognitiveservices.azure.com -o json | jq -r .accessToken)"
   ]
  }
 ],
 "metadata": {
  "language_info": {
   "name": "python"
  },
  "orig_nbformat": 4
 },
 "nbformat": 4,
 "nbformat_minor": 2
}
